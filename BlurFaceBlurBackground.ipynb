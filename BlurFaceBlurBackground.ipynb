{
 "cells": [
  {
   "cell_type": "code",
   "execution_count": 1,
   "id": "c624260f-b9af-4543-8344-dd0d2b512e2a",
   "metadata": {},
   "outputs": [
    {
     "name": "stdout",
     "output_type": "stream",
     "text": [
      "Requirement already satisfied: opencv-python in c:\\users\\jaya verma\\anaconda3\\lib\\site-packages (4.9.0.80)\n",
      "Requirement already satisfied: pyttsx3 in c:\\users\\jaya verma\\anaconda3\\lib\\site-packages (2.90)\n",
      "Requirement already satisfied: numpy>=1.21.2 in c:\\users\\jaya verma\\anaconda3\\lib\\site-packages (from opencv-python) (1.26.4)\n",
      "Requirement already satisfied: comtypes in c:\\users\\jaya verma\\anaconda3\\lib\\site-packages (from pyttsx3) (1.4.2)\n",
      "Requirement already satisfied: pypiwin32 in c:\\users\\jaya verma\\anaconda3\\lib\\site-packages (from pyttsx3) (223)\n",
      "Requirement already satisfied: pywin32 in c:\\users\\jaya verma\\anaconda3\\lib\\site-packages (from pyttsx3) (305.1)\n",
      "Note: you may need to restart the kernel to use updated packages.\n"
     ]
    }
   ],
   "source": [
    "pip install opencv-python pyttsx3"
   ]
  },
  {
   "cell_type": "code",
   "execution_count": null,
   "id": "e376798b-173b-4d54-9d5a-ff86cbf4cc54",
   "metadata": {},
   "outputs": [
    {
     "name": "stdout",
     "output_type": "stream",
     "text": [
      "please choose one service:\n",
      "detected face and blurface or background\n",
      "1.blur the face\n",
      "2.blur the background \n",
      "\n"
     ]
    },
    {
     "name": "stdin",
     "output_type": "stream",
     "text": [
      "enter what do you want: 1\n"
     ]
    }
   ],
   "source": [
    "import cv2\n",
    "import pyttsx3\n",
    "print(\"please choose one service:\")\n",
    "print(\"detected face and blurface or background\")\n",
    "\n",
    "print('''1.blur the face\n",
    "2.blur the background \n",
    "''')\n",
    "engine = pyttsx3.init()\n",
    "engine.setProperty('rate', 120)  # Speed of speech. Default is 200.\n",
    "engine.setProperty('volume', 0.9)  # Volume level. Range is from 0.0 to 1.0.\n",
    "engine.setProperty('voice', 'com.apple.speech.synthesis.voice.samantha')  # Voice selection.\n",
    "\n",
    "engine.say(\"please enter the service press one for blur the face press two for blur the background  \")\n",
    "engine.runAndWait()\n",
    "choice=int(input(\"enter what do you want:\"))\n",
    "if choice == 1:\n",
    "    # Load the pre-trained Haar cascade classifier for face detection\n",
    "    face_cascade = cv2.CascadeClassifier(cv2.data.haarcascades + \"haarcascade_frontalface_default.xml\")\n",
    "\n",
    "    # Open the video capture\n",
    "    cap = cv2.VideoCapture(0)\n",
    "\n",
    "    while True:\n",
    "        # Read a frame from the video capture\n",
    "        ret, frame = cap.read()\n",
    "\n",
    "        if not ret:\n",
    "            break\n",
    "\n",
    "        # Convert the frame to grayscale for face detection\n",
    "        gray = cv2.cvtColor(frame, cv2.COLOR_BGR2GRAY)\n",
    "\n",
    "        # Detect faces in the grayscale frame\n",
    "        faces = face_cascade.detectMultiScale(gray, scaleFactor=1.3, minNeighbors=5)\n",
    "\n",
    "        # Blur and replace the detected faces\n",
    "        for (x, y, w, h) in faces:\n",
    "            # Extract the region of interest (face)\n",
    "            face = frame[y:y+h, x:x+w]\n",
    "\n",
    "            # Apply Gaussian blur to the face\n",
    "            blurred_face = cv2.GaussianBlur(face, (99, 99), 30)\n",
    "\n",
    "            # Replace the detected face with the blurred version\n",
    "            frame[y:y+h, x:x+w] = blurred_face\n",
    "\n",
    "        # Display the resulting frame\n",
    "        cv2.imshow(\"Blurred Faces\", frame)\n",
    "\n",
    "        # Check for the 'enter' key to exit\n",
    "        if cv2.waitKey(10) ==13:\n",
    "            break\n",
    "\n",
    "    # Release the video capture and destroy windows\n",
    "    cap.release()\n",
    "    cv2.destroyAllWindows()\n",
    "    \n",
    "if choice == 2:\n",
    "    # Load the Haar Cascade classifier for face detection\n",
    "    face_cascade = cv2.CascadeClassifier('myhaarcascade_frontalface_default.xml')\n",
    "\n",
    "    # Open the webcam\n",
    "    cap = cv2.VideoCapture(0)\n",
    "\n",
    "    while True:\n",
    "        # Read the frame from the webcam\n",
    "        ret, frame = cap.read()\n",
    "\n",
    "        # Convert the frame to grayscale\n",
    "        gray = cv2.cvtColor(frame, cv2.COLOR_BGR2GRAY)\n",
    "\n",
    "        # Detect faces in the grayscale frame\n",
    "        faces = face_cascade.detectMultiScale(gray, scaleFactor=1.1, minNeighbors=5, minSize=(30, 30))\n",
    "\n",
    "        # Apply a blur effect to the background\n",
    "        blurred = cv2.GaussianBlur(frame, (99, 99), 0)\n",
    "\n",
    "        # Process each detected face\n",
    "        for (x, y, w, h) in faces:\n",
    "            # Extract the region of interest (face) from the frame\n",
    "            face = frame[y:y+h, x:x+w]\n",
    "        \n",
    "            # Replace the face region with the original, unblurred face\n",
    "            blurred[y:y+h, x:x+w] = face\n",
    "\n",
    "        # Display the result\n",
    "        cv2.imshow('Background Blur with Visible Face', blurred)\n",
    "\n",
    "        # Exit the loop if the 'enter' key is pressed\n",
    "        if cv2.waitKey(10)==13:\n",
    "            break\n",
    "\n",
    "    # Release the webcam and close all windows\n",
    "    cap.release()\n",
    "    cv2.destroyAllWindows()"
   ]
  },
  {
   "cell_type": "code",
   "execution_count": null,
   "id": "3694eb06-9f2b-4784-aa46-439500a8677d",
   "metadata": {},
   "outputs": [],
   "source": []
  }
 ],
 "metadata": {
  "kernelspec": {
   "display_name": "Python 3 (ipykernel)",
   "language": "python",
   "name": "python3"
  },
  "language_info": {
   "codemirror_mode": {
    "name": "ipython",
    "version": 3
   },
   "file_extension": ".py",
   "mimetype": "text/x-python",
   "name": "python",
   "nbconvert_exporter": "python",
   "pygments_lexer": "ipython3",
   "version": "3.11.7"
  }
 },
 "nbformat": 4,
 "nbformat_minor": 5
}
